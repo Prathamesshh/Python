{
 "cells": [
  {
   "cell_type": "markdown",
   "id": "71ce8e6c",
   "metadata": {},
   "source": [
    "Example : Manage a TO DO List"
   ]
  },
  {
   "cell_type": "code",
   "execution_count": null,
   "id": "dc9bcc21",
   "metadata": {},
   "outputs": [
    {
     "name": "stdout",
     "output_type": "stream",
     "text": [
      "To-Do List:\n",
      "Buy groceries - done\n",
      "Finish homework\n",
      "Go to the gym\n",
      "You have homework to finish!\n"
     ]
    },
    {
     "ename": "",
     "evalue": "",
     "output_type": "error",
     "traceback": [
      "\u001b[1;31mThe Kernel crashed while executing code in the current cell or a previous cell. \n",
      "\u001b[1;31mPlease review the code in the cell(s) to identify a possible cause of the failure. \n",
      "\u001b[1;31mClick <a href='https://aka.ms/vscodeJupyterKernelCrash'>here</a> for more info. \n",
      "\u001b[1;31mView Jupyter <a href='command:jupyter.viewOutput'>log</a> for further details."
     ]
    }
   ],
   "source": [
    "to_do_list = [\"Buy groceries\", \"Clean the house\", \"Finish homework\"]\n",
    "\n",
    "## Adding to task\n",
    "to_do_list.append(\"Go to the gym\")\n",
    "\n",
    "## Removing a task\n",
    "to_do_list.remove(\"Clean the house\")\n",
    "\n",
    "## Marking a task as done\n",
    "to_do_list[0] = \"Buy groceries - done\"\n",
    "\n",
    "## Displaying the to-do list\n",
    "print(\"To-Do List:\")\n",
    "for task in to_do_list:\n",
    "    print(task)\n",
    "\n",
    "if \"Finish homework\" in to_do_list:\n",
    "    print(\"You have homework to finish!\")"
   ]
  },
  {
   "cell_type": "code",
   "execution_count": null,
   "id": "82f9478c",
   "metadata": {},
   "outputs": [],
   "source": []
  }
 ],
 "metadata": {
  "kernelspec": {
   "display_name": "Python 3",
   "language": "python",
   "name": "python3"
  },
  "language_info": {
   "codemirror_mode": {
    "name": "ipython",
    "version": 3
   },
   "file_extension": ".py",
   "mimetype": "text/x-python",
   "name": "python",
   "nbconvert_exporter": "python",
   "pygments_lexer": "ipython3",
   "version": "3.12.2"
  }
 },
 "nbformat": 4,
 "nbformat_minor": 5
}
