{
 "cells": [
  {
   "cell_type": "markdown",
   "id": "18c4dabc",
   "metadata": {},
   "source": [
    "1.Arithmetic Operator\n"
   ]
  },
  {
   "cell_type": "code",
   "execution_count": 1,
   "id": "21e4edb8",
   "metadata": {},
   "outputs": [
    {
     "name": "stdout",
     "output_type": "stream",
     "text": [
      "The sum of 10 and 20 is 30\n"
     ]
    }
   ],
   "source": [
    "num1 = 10\n",
    "num2 = 20\n",
    "\n",
    "sum = num1 + num2\n",
    "print(\"The sum of {0} and {1} is {2}\".format(num1, num2, sum))"
   ]
  },
  {
   "cell_type": "code",
   "execution_count": 2,
   "id": "04c223b1",
   "metadata": {},
   "outputs": [
    {
     "name": "stdout",
     "output_type": "stream",
     "text": [
      "The difference of 10 and 20 is -10\n"
     ]
    }
   ],
   "source": [
    "diff = num1 - num2\n",
    "print(\"The difference of {0} and {1} is {2}\".format(num1, num2, diff))  "
   ]
  },
  {
   "cell_type": "code",
   "execution_count": 3,
   "id": "76cce4d5",
   "metadata": {},
   "outputs": [
    {
     "name": "stdout",
     "output_type": "stream",
     "text": [
      "The product of 10 and 20 is 200\n"
     ]
    }
   ],
   "source": [
    "mul = num1 * num2\n",
    "print(\"The product of {0} and {1} is {2}\".format(num1, num2, mul))"
   ]
  },
  {
   "cell_type": "code",
   "execution_count": 4,
   "id": "60cf28d6",
   "metadata": {},
   "outputs": [
    {
     "name": "stdout",
     "output_type": "stream",
     "text": [
      "The division of 10 and 20 is 0.5\n",
      "The modulus of 10 and 20 is 10\n"
     ]
    }
   ],
   "source": [
    "div = num1 / num2\n",
    "print(\"The division of {0} and {1} is {2}\".format(num1, num2, div))\n",
    "\n",
    "mod = num1 % num2\n",
    "print(\"The modulus of {0} and {1} is {2}\".format(num1, num2, mod))"
   ]
  },
  {
   "cell_type": "code",
   "execution_count": null,
   "id": "91ab62a9",
   "metadata": {},
   "outputs": [],
   "source": []
  }
 ],
 "metadata": {
  "kernelspec": {
   "display_name": "Python 3",
   "language": "python",
   "name": "python3"
  },
  "language_info": {
   "codemirror_mode": {
    "name": "ipython",
    "version": 3
   },
   "file_extension": ".py",
   "mimetype": "text/x-python",
   "name": "python",
   "nbconvert_exporter": "python",
   "pygments_lexer": "ipython3",
   "version": "3.12.2"
  }
 },
 "nbformat": 4,
 "nbformat_minor": 5
}
