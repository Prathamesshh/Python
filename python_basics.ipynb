{
 "cells": [
  {
   "cell_type": "code",
   "execution_count": 1,
   "id": "aa44f45f",
   "metadata": {},
   "outputs": [
    {
     "name": "stdout",
     "output_type": "stream",
     "text": [
      "Machine Learning is fun!\n"
     ]
    }
   ],
   "source": [
    "print(\"Machine Learning is fun!\")"
   ]
  },
  {
   "cell_type": "code",
   "execution_count": 2,
   "id": "d495b2f7",
   "metadata": {},
   "outputs": [
    {
     "data": {
      "text/plain": [
       "int"
      ]
     },
     "execution_count": 2,
     "metadata": {},
     "output_type": "execute_result"
    }
   ],
   "source": [
    "type(5)"
   ]
  },
  {
   "cell_type": "markdown",
   "id": "4df36bbc",
   "metadata": {},
   "source": [
    "#Data types"
   ]
  },
  {
   "cell_type": "code",
   "execution_count": 5,
   "id": "44680680",
   "metadata": {},
   "outputs": [],
   "source": [
    "# 3 basic data types are \n",
    "#1.int\n",
    "#2.float\n",
    "#3.string"
   ]
  },
  {
   "cell_type": "markdown",
   "id": "890f2a10",
   "metadata": {},
   "source": [
    "Variables"
   ]
  },
  {
   "cell_type": "code",
   "execution_count": 6,
   "id": "08b1efe5",
   "metadata": {},
   "outputs": [
    {
     "name": "stdout",
     "output_type": "stream",
     "text": [
      "Iron man\n"
     ]
    }
   ],
   "source": [
    "marvel_hero = \"Iron man\"\n",
    "print(marvel_hero)"
   ]
  },
  {
   "cell_type": "code",
   "execution_count": 7,
   "id": "bab9bcab",
   "metadata": {},
   "outputs": [
    {
     "name": "stdout",
     "output_type": "stream",
     "text": [
      "Iron man Thor Hulk\n"
     ]
    }
   ],
   "source": [
    "hero1,hero2,hero3 = \"Iron man\",\"Thor\",\"Hulk\"\n",
    "print(hero1,hero2,hero3)"
   ]
  },
  {
   "cell_type": "code",
   "execution_count": 8,
   "id": "165728b8",
   "metadata": {},
   "outputs": [
    {
     "name": "stdout",
     "output_type": "stream",
     "text": [
      "20 20 20\n"
     ]
    }
   ],
   "source": [
    "x = y = z = 20\n",
    "print(x,y,z)"
   ]
  },
  {
   "cell_type": "code",
   "execution_count": 10,
   "id": "34e20668",
   "metadata": {},
   "outputs": [
    {
     "name": "stdout",
     "output_type": "stream",
     "text": [
      "Sum of two numbers is:  30\n"
     ]
    }
   ],
   "source": [
    "num_1 = input(\"Enter first number: \")\n",
    "num_2 = input(\"Enter second number: \")\n",
    "\n",
    "sum = int(num_1) + int(num_2)\n",
    "print(\"Sum of two numbers is: \", sum)\n",
    "#Python is a dynamically typed language"
   ]
  },
  {
   "cell_type": "code",
   "execution_count": 11,
   "id": "cc1aaca3",
   "metadata": {},
   "outputs": [
    {
     "name": "stdout",
     "output_type": "stream",
     "text": [
      "Ironman\n"
     ]
    }
   ],
   "source": [
    "str_1 = \"Iron\"\n",
    "str_2 = \"man\"\n",
    "\n",
    "str_3 = str_1 + str_2\n",
    "print(str_3)"
   ]
  },
  {
   "cell_type": "code",
   "execution_count": 12,
   "id": "33d1bd68",
   "metadata": {},
   "outputs": [
    {
     "name": "stdout",
     "output_type": "stream",
     "text": [
      "5.0\n"
     ]
    }
   ],
   "source": [
    "num = 5 \n",
    "print(float(num)) #5.0"
   ]
  },
  {
   "cell_type": "code",
   "execution_count": null,
   "id": "bd9550f7",
   "metadata": {},
   "outputs": [],
   "source": []
  }
 ],
 "metadata": {
  "kernelspec": {
   "display_name": "Python 3",
   "language": "python",
   "name": "python3"
  },
  "language_info": {
   "codemirror_mode": {
    "name": "ipython",
    "version": 3
   },
   "file_extension": ".py",
   "mimetype": "text/x-python",
   "name": "python",
   "nbconvert_exporter": "python",
   "pygments_lexer": "ipython3",
   "version": "3.12.2"
  }
 },
 "nbformat": 4,
 "nbformat_minor": 5
}
