{
 "cells": [
  {
   "cell_type": "code",
   "execution_count": 2,
   "id": "0e63dfc7",
   "metadata": {},
   "outputs": [
    {
     "name": "stdout",
     "output_type": "stream",
     "text": [
      "[1, 2, 3, 4, 5, 6, 7, 8, 9, 10]\n"
     ]
    },
    {
     "data": {
      "text/plain": [
       "list"
      ]
     },
     "execution_count": 2,
     "metadata": {},
     "output_type": "execute_result"
    }
   ],
   "source": [
    "# list should be sorted in ascending order and in square brackets\n",
    "my_list = [1, 2, 3, 4, 5, 6, 7, 8, 9, 10]\n",
    "print(my_list)\n",
    "type(my_list)"
   ]
  },
  {
   "cell_type": "code",
   "execution_count": 3,
   "id": "82e891de",
   "metadata": {},
   "outputs": [
    {
     "name": "stdout",
     "output_type": "stream",
     "text": [
      "[1, 2, 3.5, 'hello', True, None]\n"
     ]
    }
   ],
   "source": [
    "# list can have multiple data types\n",
    "my_list = [1, 2, 3.5, \"hello\", True, None]\n",
    "print(my_list)"
   ]
  },
  {
   "cell_type": "markdown",
   "id": "88a8531f",
   "metadata": {},
   "source": [
    "List are mutable -> changeable\n"
   ]
  },
  {
   "cell_type": "code",
   "execution_count": 6,
   "id": "a9a0e4c8",
   "metadata": {},
   "outputs": [
    {
     "name": "stdout",
     "output_type": "stream",
     "text": [
      "1\n",
      "[1, 2, 3, 4, 5, 6, 7, 8, 9, 10, 11]\n"
     ]
    }
   ],
   "source": [
    "my_list = [1, 2, 3, 4, 5, 6, 7, 8, 9, 10]\n",
    "print(my_list[0])  # first element\n",
    "my_list.append(11) # add an element to the end of the list\n",
    "print(my_list)"
   ]
  },
  {
   "cell_type": "code",
   "execution_count": 7,
   "id": "fb2521e2",
   "metadata": {},
   "outputs": [
    {
     "name": "stdout",
     "output_type": "stream",
     "text": [
      "11\n"
     ]
    }
   ],
   "source": [
    "print(len(my_list)) # length of the list"
   ]
  },
  {
   "cell_type": "code",
   "execution_count": 9,
   "id": "3d300259",
   "metadata": {},
   "outputs": [
    {
     "name": "stdout",
     "output_type": "stream",
     "text": [
      "[]\n"
     ]
    }
   ],
   "source": [
    "#initializing a empty list\n",
    "my_list1 = []\n",
    "print(my_list1)"
   ]
  },
  {
   "cell_type": "code",
   "execution_count": 10,
   "id": "2a765f91",
   "metadata": {},
   "outputs": [
    {
     "name": "stdout",
     "output_type": "stream",
     "text": [
      "[1, 2, 4, 5]\n"
     ]
    }
   ],
   "source": [
    "#delete an element from the list\n",
    "my_list1 = [1, 2, 3, 4, 5]\n",
    "my_list1.remove(3) # remove the first occurrence of 3\n",
    "print(my_list1)"
   ]
  },
  {
   "cell_type": "code",
   "execution_count": 11,
   "id": "0ee1fb5b",
   "metadata": {},
   "outputs": [
    {
     "name": "stdout",
     "output_type": "stream",
     "text": [
      "(1, 2, 3, 4, 5)\n"
     ]
    }
   ],
   "source": [
    "#tuple\n",
    "my_tuple = (1, 2, 3, 4, 5)\n",
    "print(my_tuple) "
   ]
  },
  {
   "cell_type": "markdown",
   "id": "30864cb6",
   "metadata": {},
   "source": [
    "tuples are immutable ->unchangeable"
   ]
  },
  {
   "cell_type": "code",
   "execution_count": 12,
   "id": "953e57ff",
   "metadata": {},
   "outputs": [
    {
     "name": "stdout",
     "output_type": "stream",
     "text": [
      "{1, 2, 3, 4, 5}\n"
     ]
    }
   ],
   "source": [
    "#set\n",
    "my_set = {1, 2, 3, 4, 5}\n",
    "print(my_set) # unordered collection of unique elements"
   ]
  },
  {
   "cell_type": "code",
   "execution_count": 19,
   "id": "1a937435",
   "metadata": {},
   "outputs": [
    {
     "name": "stdout",
     "output_type": "stream",
     "text": [
      "{1, 2, 4, 5, 6}\n"
     ]
    }
   ],
   "source": [
    "my_set.add(6) # add an element to the set\n",
    "my_set.discard(7) # remove an element from the set if it exists\n",
    "print(my_set)"
   ]
  },
  {
   "cell_type": "markdown",
   "id": "75113279",
   "metadata": {},
   "source": [
    "Dictionary -> Key-value pair"
   ]
  },
  {
   "cell_type": "code",
   "execution_count": 20,
   "id": "bebd8455",
   "metadata": {},
   "outputs": [
    {
     "name": "stdout",
     "output_type": "stream",
     "text": [
      "{'name': 'Alice', 'age': 25, 'city': 'New York'}\n"
     ]
    }
   ],
   "source": [
    "#dictionary\n",
    "my_dict = {\"name\": \"Alice\", \"age\": 25, \"city\": \"New York\"}\n",
    "print(my_dict) # unordered collection of key-value pairs"
   ]
  },
  {
   "cell_type": "code",
   "execution_count": 21,
   "id": "5be3173f",
   "metadata": {},
   "outputs": [
    {
     "name": "stdout",
     "output_type": "stream",
     "text": [
      "Alice\n"
     ]
    }
   ],
   "source": [
    "print(my_dict[\"name\"]) # access value by key"
   ]
  },
  {
   "cell_type": "code",
   "execution_count": null,
   "id": "6f10b1bb",
   "metadata": {},
   "outputs": [],
   "source": []
  }
 ],
 "metadata": {
  "kernelspec": {
   "display_name": "Python 3",
   "language": "python",
   "name": "python3"
  },
  "language_info": {
   "codemirror_mode": {
    "name": "ipython",
    "version": 3
   },
   "file_extension": ".py",
   "mimetype": "text/x-python",
   "name": "python",
   "nbconvert_exporter": "python",
   "pygments_lexer": "ipython3",
   "version": "3.12.2"
  }
 },
 "nbformat": 4,
 "nbformat_minor": 5
}
