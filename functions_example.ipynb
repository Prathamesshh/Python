{
 "cells": [
  {
   "cell_type": "markdown",
   "id": "eed0b7be",
   "metadata": {},
   "source": [
    "Ex1 : Temperature Conversion"
   ]
  },
  {
   "cell_type": "code",
   "execution_count": 3,
   "id": "0547ee6a",
   "metadata": {},
   "outputs": [
    {
     "data": {
      "text/plain": [
       "212.0"
      ]
     },
     "execution_count": 3,
     "metadata": {},
     "output_type": "execute_result"
    }
   ],
   "source": [
    "def convert_temp(temp,unit):\n",
    "    \"\"\"convert temperature from Celsius to Fahrenheit or vice versa\"\"\"\n",
    "    if unit==\"C\":\n",
    "        return (temp*9/5)+32\n",
    "    elif unit==\"F\": \n",
    "        return (temp-32)*5/9\n",
    "    else:\n",
    "        raise ValueError(\"Invalid unit. Use 'C' for Celsius or 'F' for Fahrenheit.\")\n",
    "    \n",
    "\n",
    "convert_temp(100, \"C\")"
   ]
  },
  {
   "cell_type": "code",
   "execution_count": 5,
   "id": "4f3314a6",
   "metadata": {},
   "outputs": [
    {
     "data": {
      "text/plain": [
       "'Strong password.'"
      ]
     },
     "execution_count": 5,
     "metadata": {},
     "output_type": "execute_result"
    }
   ],
   "source": [
    "## Password strength checker\n",
    "\n",
    "def checker(password):\n",
    "    \"\"\"check the strength of a password\"\"\"\n",
    "    if len(password) < 8:\n",
    "        return \"Weak password. Must be at least 8 characters.\"\n",
    "    if not any(char.isdigit() for char in password):\n",
    "        return \"Weak password. Must contain at least one digit.\"\n",
    "    if not any(char.isupper() for char in password):\n",
    "        return \"Weak password. Must contain at least one uppercase letter.\"\n",
    "    if not any(char.islower() for char in password):\n",
    "        return \"Weak password. Must contain at least one lowercase letter.\"\n",
    "    if not any(char in \"!@#$%^&*()-_+=<>?{}[]|:;\\\"'`~\" for char in password):\n",
    "        return \"Weak password. Must contain at least one special character.\"\n",
    "    \n",
    "    return \"Strong password.\"\n",
    "\n",
    "\n",
    "checker(\"Password123!\") "
   ]
  },
  {
   "cell_type": "code",
   "execution_count": 2,
   "id": "e8934015",
   "metadata": {},
   "outputs": [
    {
     "data": {
      "text/plain": [
       "False"
      ]
     },
     "execution_count": 2,
     "metadata": {},
     "output_type": "execute_result"
    }
   ],
   "source": [
    "## String is palindrome\n",
    "def is_palindrome(s):\n",
    "    \"\"\"check if a string is a palindrome\"\"\"\n",
    "    s = s.lower()\n",
    "    return s == s[::-1]\n",
    "\n",
    "is_palindrome(\"Racecar\") \n",
    "\n",
    "is_palindrome(\"Hello1\")"
   ]
  },
  {
   "cell_type": "code",
   "execution_count": null,
   "id": "018ee216",
   "metadata": {},
   "outputs": [],
   "source": []
  },
  {
   "cell_type": "code",
   "execution_count": null,
   "id": "0e20778c",
   "metadata": {},
   "outputs": [],
   "source": []
  }
 ],
 "metadata": {
  "kernelspec": {
   "display_name": "Python 3",
   "language": "python",
   "name": "python3"
  },
  "language_info": {
   "codemirror_mode": {
    "name": "ipython",
    "version": 3
   },
   "file_extension": ".py",
   "mimetype": "text/x-python",
   "name": "python",
   "nbconvert_exporter": "python",
   "pygments_lexer": "ipython3",
   "version": "3.12.2"
  }
 },
 "nbformat": 4,
 "nbformat_minor": 5
}
