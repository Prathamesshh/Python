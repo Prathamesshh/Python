{
 "cells": [
  {
   "cell_type": "code",
   "execution_count": 2,
   "id": "e017cda1",
   "metadata": {},
   "outputs": [
    {
     "name": "stdout",
     "output_type": "stream",
     "text": [
      "{'name': 'John', 'age': 30, 'city': 'New York'}\n"
     ]
    },
    {
     "data": {
      "text/plain": [
       "dict"
      ]
     },
     "execution_count": 2,
     "metadata": {},
     "output_type": "execute_result"
    }
   ],
   "source": [
    "my_dict={'name':'John', 'age':30, 'city':'New York'}\n",
    "print(my_dict)\n",
    "type(my_dict)"
   ]
  },
  {
   "cell_type": "code",
   "execution_count": 5,
   "id": "04840b22",
   "metadata": {},
   "outputs": [
    {
     "name": "stdout",
     "output_type": "stream",
     "text": [
      "John\n",
      "30\n",
      "New York\n",
      "John\n",
      "30\n",
      "New York\n"
     ]
    }
   ],
   "source": [
    "## Accessing values\n",
    "print(my_dict['name'])\n",
    "print(my_dict['age'])\n",
    "print(my_dict['city'])\n",
    "\n",
    "##accesing values using get method\n",
    "print(my_dict.get('name'))  \n",
    "print(my_dict.get('age'))\n",
    "print(my_dict.get('city'))"
   ]
  },
  {
   "cell_type": "code",
   "execution_count": 8,
   "id": "f694f6ac",
   "metadata": {},
   "outputs": [
    {
     "name": "stdout",
     "output_type": "stream",
     "text": [
      "35\n",
      "{'name': 'John', 'age': 35, 'city': 'New York', 'address': 'india'}\n"
     ]
    }
   ],
   "source": [
    "## Dictionary is mutable\n",
    "my_dict['age']=35\n",
    "print(my_dict['age'])\n",
    "my_dict[\"address\"] = \"india\"\n",
    "print(my_dict)"
   ]
  },
  {
   "cell_type": "code",
   "execution_count": 11,
   "id": "97adc07d",
   "metadata": {},
   "outputs": [
    {
     "name": "stdout",
     "output_type": "stream",
     "text": [
      "{'name': 'John', 'age': 35, 'city': 'New York'}\n"
     ]
    }
   ],
   "source": [
    "## delete a key-value pair\n",
    "if \"address\" in my_dict:\n",
    "\tdel my_dict[\"address\"]\n",
    "print(my_dict)"
   ]
  },
  {
   "cell_type": "code",
   "execution_count": 12,
   "id": "8ed5b444",
   "metadata": {},
   "outputs": [
    {
     "name": "stdout",
     "output_type": "stream",
     "text": [
      "dict_keys(['name', 'age', 'city'])\n",
      "dict_values(['John', 35, 'New York'])\n",
      "dict_items([('name', 'John'), ('age', 35), ('city', 'New York')])\n"
     ]
    }
   ],
   "source": [
    "#Dictionary methods\n",
    "\n",
    "keys = my_dict.keys()\n",
    "print(keys) # returns a list of all the keys in the dictionary\n",
    "values = my_dict.values()\n",
    "print(values) # returns a list of all the values in the dictionary\n",
    "\n",
    "items = my_dict.items()\n",
    "print(items) # returns a list of all the key-value pairs in the dictionary"
   ]
  },
  {
   "cell_type": "code",
   "execution_count": 20,
   "id": "9d03d04b",
   "metadata": {},
   "outputs": [
    {
     "name": "stdout",
     "output_type": "stream",
     "text": [
      "{'name': 'Jane', 'age': 35, 'city': 'New York'}\n",
      "{'name': 'John', 'age': 35, 'city': 'New York'}\n"
     ]
    }
   ],
   "source": [
    "# shallow copy\n",
    "\n",
    "my_dict2 = my_dict.copy()\n",
    "my_dict2['name'] = 'Jane'\n",
    "my_dict['name'] = 'John'\n",
    "print(my_dict2)\n",
    "print(my_dict) # original dictionary remains unchanged"
   ]
  },
  {
   "cell_type": "code",
   "execution_count": null,
   "id": "2a1bf928",
   "metadata": {},
   "outputs": [
    {
     "name": "stdout",
     "output_type": "stream",
     "text": [
      "name John\n",
      "age 35\n",
      "city New York\n",
      "John\n",
      "35\n",
      "New York\n"
     ]
    }
   ],
   "source": [
    "#iterating through a dictionary\n",
    "\n",
    "for key in my_dict:\n",
    "    print(key, my_dict[key]) # prints key and value\n",
    "\n",
    "\n",
    "for values in my_dict.values():\n",
    "    print(values) # prints only values"
   ]
  },
  {
   "cell_type": "code",
   "execution_count": 26,
   "id": "dfee8f4b",
   "metadata": {},
   "outputs": [
    {
     "name": "stdout",
     "output_type": "stream",
     "text": [
      "name: John\n",
      "age: 35\n",
      "city: New York\n"
     ]
    }
   ],
   "source": [
    "## Iterate over keys and values\n",
    "\n",
    "for key, value in my_dict.items():\n",
    "    print(f\"{key}: {value}\") # prints key and value"
   ]
  },
  {
   "cell_type": "code",
   "execution_count": 27,
   "id": "79c836f2",
   "metadata": {},
   "outputs": [
    {
     "name": "stdout",
     "output_type": "stream",
     "text": [
      "{'student1': {'name': 'John', 'age': 20}, 'student2': {'name': 'Jane', 'age': 22}, 'student3': {'name': 'Jim', 'age': 21}}\n"
     ]
    }
   ],
   "source": [
    "students = {\n",
    "    \"student1\": {\"name\": \"John\", \"age\": 20},\n",
    "    \"student2\": {\"name\": \"Jane\", \"age\": 22},\n",
    "    \"student3\": {\"name\": \"Jim\", \"age\": 21}}\n",
    "print(students)"
   ]
  },
  {
   "cell_type": "code",
   "execution_count": 31,
   "id": "13f2318c",
   "metadata": {},
   "outputs": [
    {
     "name": "stdout",
     "output_type": "stream",
     "text": [
      "John\n",
      "student1: John, 20\n",
      "name:John\n",
      "age:20\n",
      "student2: Jane, 22\n",
      "name:Jane\n",
      "age:22\n",
      "student3: Jim, 21\n",
      "name:Jim\n",
      "age:21\n"
     ]
    }
   ],
   "source": [
    "## accesing nested dictionary\n",
    "\n",
    "print(students[\"student1\"][\"name\"]) # prints name of student1\n",
    "\n",
    "for student, info in students.items():\n",
    "    print(f\"{student}: {info['name']}, {info['age']}\") # prints name and age of each student\n",
    "    for key,value in info.items():\n",
    "        print(f\"{key}:{value}\") # prints key and value of each student   "
   ]
  },
  {
   "cell_type": "code",
   "execution_count": 32,
   "id": "a3761fdd",
   "metadata": {},
   "outputs": [
    {
     "name": "stdout",
     "output_type": "stream",
     "text": [
      "{1: 1, 2: 4, 3: 9, 4: 16, 5: 25, 6: 36, 7: 49, 8: 64, 9: 81, 10: 100}\n"
     ]
    }
   ],
   "source": [
    "squares = {x:x**2 for x in range(1, 11)}\n",
    "print(squares) # prints squares of numbers from 1 to 10"
   ]
  },
  {
   "cell_type": "code",
   "execution_count": 35,
   "id": "93d1d91c",
   "metadata": {},
   "outputs": [
    {
     "name": "stdout",
     "output_type": "stream",
     "text": [
      "{2: 4, 4: 16, 6: 36, 8: 64, 10: 100, 12: 144, 14: 196, 16: 256, 18: 324, 20: 400}\n"
     ]
    }
   ],
   "source": [
    "evens = {x :x**2 for x in range(1, 21) if x % 2 == 0}\n",
    "print(evens) # prints even numbers from 1 to 20"
   ]
  },
  {
   "cell_type": "code",
   "execution_count": 40,
   "id": "78281ded",
   "metadata": {},
   "outputs": [],
   "source": [
    "# use a dict to count freq uency of elements in a list\n",
    "\n",
    "numbers = [1,2,2,3,3,3,4,4,4,4]\n",
    "freq = {} \n",
    "#   freq = {x:numbers.count(x) for x in numbers}\n"
   ]
  },
  {
   "cell_type": "code",
   "execution_count": 41,
   "id": "7433ac0e",
   "metadata": {},
   "outputs": [
    {
     "name": "stdout",
     "output_type": "stream",
     "text": [
      "{1: 1, 2: 2, 3: 3, 4: 4}\n"
     ]
    }
   ],
   "source": [
    "for number in numbers:\n",
    "    if number in freq:\n",
    "        freq[number] +=1\n",
    "    else:\n",
    "        freq[number] = 1\n",
    "\n",
    "print(freq) # prints frequency of each number in the list\n"
   ]
  },
  {
   "cell_type": "code",
   "execution_count": 42,
   "id": "ea5b1ac2",
   "metadata": {},
   "outputs": [
    {
     "name": "stdout",
     "output_type": "stream",
     "text": [
      "{'a': 1, 'b': 2, 'c': 3, 'd': 4, 'e': 5, 'f': 6}\n"
     ]
    }
   ],
   "source": [
    "dict1 = {'a': 1, 'b': 2, 'c': 3}\n",
    "dict2 = {'d': 4, 'e': 5, 'f': 6}\n",
    "merged_dict = {**dict1,**dict2}\n",
    "print(merged_dict) # prints merged dictionary"
   ]
  },
  {
   "cell_type": "code",
   "execution_count": null,
   "id": "15ad10b8",
   "metadata": {},
   "outputs": [],
   "source": []
  }
 ],
 "metadata": {
  "kernelspec": {
   "display_name": "Python 3",
   "language": "python",
   "name": "python3"
  },
  "language_info": {
   "codemirror_mode": {
    "name": "ipython",
    "version": 3
   },
   "file_extension": ".py",
   "mimetype": "text/x-python",
   "name": "python",
   "nbconvert_exporter": "python",
   "pygments_lexer": "ipython3",
   "version": "3.12.2"
  }
 },
 "nbformat": 4,
 "nbformat_minor": 5
}
