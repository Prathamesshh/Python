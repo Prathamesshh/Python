{
 "cells": [
  {
   "cell_type": "code",
   "execution_count": 2,
   "id": "e017cda1",
   "metadata": {},
   "outputs": [
    {
     "name": "stdout",
     "output_type": "stream",
     "text": [
      "{'name': 'John', 'age': 30, 'city': 'New York'}\n"
     ]
    },
    {
     "data": {
      "text/plain": [
       "dict"
      ]
     },
     "execution_count": 2,
     "metadata": {},
     "output_type": "execute_result"
    }
   ],
   "source": [
    "my_dict={'name':'John', 'age':30, 'city':'New York'}\n",
    "print(my_dict)\n",
    "type(my_dict)"
   ]
  },
  {
   "cell_type": "code",
   "execution_count": 5,
   "id": "04840b22",
   "metadata": {},
   "outputs": [
    {
     "name": "stdout",
     "output_type": "stream",
     "text": [
      "John\n",
      "30\n",
      "New York\n",
      "John\n",
      "30\n",
      "New York\n"
     ]
    }
   ],
   "source": [
    "## Accessing values\n",
    "print(my_dict['name'])\n",
    "print(my_dict['age'])\n",
    "print(my_dict['city'])\n",
    "\n",
    "##accesing values using get method\n",
    "print(my_dict.get('name'))  \n",
    "print(my_dict.get('age'))\n",
    "print(my_dict.get('city'))"
   ]
  },
  {
   "cell_type": "code",
   "execution_count": 8,
   "id": "f694f6ac",
   "metadata": {},
   "outputs": [
    {
     "name": "stdout",
     "output_type": "stream",
     "text": [
      "35\n",
      "{'name': 'John', 'age': 35, 'city': 'New York', 'address': 'india'}\n"
     ]
    }
   ],
   "source": [
    "## Dictionary is mutable\n",
    "my_dict['age']=35\n",
    "print(my_dict['age'])\n",
    "my_dict[\"address\"] = \"india\"\n",
    "print(my_dict)"
   ]
  },
  {
   "cell_type": "code",
   "execution_count": 11,
   "id": "97adc07d",
   "metadata": {},
   "outputs": [
    {
     "name": "stdout",
     "output_type": "stream",
     "text": [
      "{'name': 'John', 'age': 35, 'city': 'New York'}\n"
     ]
    }
   ],
   "source": [
    "## delete a key-value pair\n",
    "if \"address\" in my_dict:\n",
    "\tdel my_dict[\"address\"]\n",
    "print(my_dict)"
   ]
  },
  {
   "cell_type": "code",
   "execution_count": null,
   "id": "8ed5b444",
   "metadata": {},
   "outputs": [],
   "source": []
  }
 ],
 "metadata": {
  "kernelspec": {
   "display_name": "Python 3",
   "language": "python",
   "name": "python3"
  },
  "language_info": {
   "codemirror_mode": {
    "name": "ipython",
    "version": 3
   },
   "file_extension": ".py",
   "mimetype": "text/x-python",
   "name": "python",
   "nbconvert_exporter": "python",
   "pygments_lexer": "ipython3",
   "version": "3.12.2"
  }
 },
 "nbformat": 4,
 "nbformat_minor": 5
}
