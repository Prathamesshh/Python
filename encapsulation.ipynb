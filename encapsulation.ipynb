{
 "cells": [
  {
   "cell_type": "markdown",
   "id": "d6c4e5a7",
   "metadata": {},
   "source": [
    "# Encapsulation\n",
    "\n",
    "Encapsulation is one of the fundamental principles of Object-Oriented Programming (OOP). It refers to the bundling of data (attributes) and methods (functions) that operate on the data into a single unit, typically a class. Encapsulation helps to restrict direct access to some of an object's components, which is a means of preventing unintended interference and misuse of the data."
   ]
  },
  {
   "cell_type": "code",
   "execution_count": 1,
   "id": "66212dbd",
   "metadata": {},
   "outputs": [
    {
     "name": "stdout",
     "output_type": "stream",
     "text": [
      "Alice\n"
     ]
    }
   ],
   "source": [
    "class Person:\n",
    "    def __init__(self, name, age):\n",
    "        self.name = name  # Public attribute\n",
    "        self.age = age    # Public attribute\n",
    "\n",
    "person = Person(\"Alice\", 30)\n",
    "print(person.name)  "
   ]
  },
  {
   "cell_type": "code",
   "execution_count": 5,
   "id": "f1a8ddee",
   "metadata": {},
   "outputs": [],
   "source": [
    "class people:\n",
    "    def __init__(self, name, age):\n",
    "        self.__name = name  # Private attribute\n",
    "        self.__age = age    # Private attribute\n",
    "\n",
    "p1 = people(\"Bob\", 25)\n",
    "#  print(p1.__name) # This will raise an AttributeError because __name is private\n",
    "# To access private attributes, we can use getter and setter methods\n"
   ]
  },
  {
   "cell_type": "code",
   "execution_count": 6,
   "id": "b47fef94",
   "metadata": {},
   "outputs": [
    {
     "data": {
      "text/plain": [
       "['__class__',\n",
       " '__delattr__',\n",
       " '__dict__',\n",
       " '__dir__',\n",
       " '__doc__',\n",
       " '__eq__',\n",
       " '__format__',\n",
       " '__ge__',\n",
       " '__getattribute__',\n",
       " '__getstate__',\n",
       " '__gt__',\n",
       " '__hash__',\n",
       " '__init__',\n",
       " '__init_subclass__',\n",
       " '__le__',\n",
       " '__lt__',\n",
       " '__module__',\n",
       " '__ne__',\n",
       " '__new__',\n",
       " '__reduce__',\n",
       " '__reduce_ex__',\n",
       " '__repr__',\n",
       " '__setattr__',\n",
       " '__sizeof__',\n",
       " '__str__',\n",
       " '__subclasshook__',\n",
       " '__weakref__',\n",
       " '_people__age',\n",
       " '_people__name']"
      ]
     },
     "execution_count": 6,
     "metadata": {},
     "output_type": "execute_result"
    }
   ],
   "source": [
    "dir(p1)"
   ]
  },
  {
   "cell_type": "code",
   "execution_count": 8,
   "id": "b7b7c131",
   "metadata": {},
   "outputs": [
    {
     "name": "stdout",
     "output_type": "stream",
     "text": [
      "Charlie\n",
      "30\n"
     ]
    }
   ],
   "source": [
    "class person:\n",
    "    def __init__(self, name, age, gender):\n",
    "        self._name = name # Protected attribute\n",
    "        self._age = age   # Protected attribute\n",
    "        self.gender = gender # Public attribute\n",
    "    \n",
    "class Employee(person):\n",
    "    def __init__(self, name, age, gender, employee_id):\n",
    "        super().__init__(name, age, gender)\n",
    "        self._employee_id = employee_id # Protected attribute\n",
    "\n",
    "employee1 = Employee(\"Charlie\", 30, \"Male\", \"E123\")\n",
    "print(employee1._name)  # Accessing protected attribute from the parent class\n",
    "print(employee1._age)   # Accessing protected attribute from the parent class\n"
   ]
  },
  {
   "cell_type": "code",
   "execution_count": 14,
   "id": "746cf691",
   "metadata": {},
   "outputs": [
    {
     "name": "stdout",
     "output_type": "stream",
     "text": [
      "Bob\n",
      "None\n",
      "32\n"
     ]
    }
   ],
   "source": [
    "# Encapsulation with Getter and Setter Methods\n",
    "class Person:\n",
    "    def __init__(self, name, age):\n",
    "        self.__name = name  # Private attribute\n",
    "        self.__age = age    # Private attribute\n",
    "\n",
    "    # Getter method for name\n",
    "    def get_name(self):\n",
    "        return self.__name\n",
    "\n",
    "    # Setter method for name\n",
    "    def set_name(self, name):\n",
    "        self.__name = name\n",
    "\n",
    "    # Getter method for age\n",
    "    def get_age(self):\n",
    "        return self.__age\n",
    "\n",
    "    # Setter method for age\n",
    "    def set_age(self, age):\n",
    "        if age > 0:\n",
    "            self.__age = age\n",
    "        else:\n",
    "            print(\"Age must be positive.\")\n",
    "\n",
    "# Example usage\n",
    "person = Person(\"Alice\", 30) \n",
    "person.set_name(\"Bob\")  \n",
    "print(person.get_name())  \n",
    "print(person.set_age(32))\n",
    "print(person.get_age())\n"
   ]
  },
  {
   "cell_type": "code",
   "execution_count": null,
   "id": "ce2d1ad8",
   "metadata": {},
   "outputs": [],
   "source": []
  }
 ],
 "metadata": {
  "kernelspec": {
   "display_name": "Python 3",
   "language": "python",
   "name": "python3"
  },
  "language_info": {
   "codemirror_mode": {
    "name": "ipython",
    "version": 3
   },
   "file_extension": ".py",
   "mimetype": "text/x-python",
   "name": "python",
   "nbconvert_exporter": "python",
   "pygments_lexer": "ipython3",
   "version": "3.12.2"
  }
 },
 "nbformat": 4,
 "nbformat_minor": 5
}
