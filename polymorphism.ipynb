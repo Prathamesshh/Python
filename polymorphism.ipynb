{
 "cells": [
  {
   "cell_type": "code",
   "execution_count": null,
   "id": "1c91b26c",
   "metadata": {},
   "outputs": [
    {
     "name": "stdout",
     "output_type": "stream",
     "text": [
      "Rectangle area: 200\n",
      "Triangle area: 100.0\n",
      "Circle area: 314.0\n"
     ]
    }
   ],
   "source": [
    "class shape:\n",
    "    def area(self):\n",
    "        return \"the area of figure\"\n",
    "    \n",
    "#derived class\n",
    "class rectangle(shape):\n",
    "    def __init__(self,length,width):\n",
    "        self.length=length\n",
    "        self.width=width\n",
    "    def area(self):\n",
    "        return self.length*self.width\n",
    "    \n",
    "#derived class 2\n",
    "class triangle(shape):\n",
    "    def __init__(self,length,height):\n",
    "        self.length=length\n",
    "        self.height=height\n",
    "    def area(self):\n",
    "        return (self.length*self.height)/2\n",
    "    \n",
    "#derived class 3\n",
    "class circle(shape):\n",
    "    def __init__(self,radius):\n",
    "        self.radius=radius\n",
    "    def area(self):\n",
    "        return 3.14*self.radius*self.radius\n",
    "    \n",
    "#creating objects\n",
    "r=rectangle(10,20)\n",
    "print(\"Rectangle area:\", r.area())\n",
    "\n",
    "t=triangle(10,20)\n",
    "print(\"Triangle area:\", t.area())\n",
    "\n",
    "c=circle(10)\n",
    "print(\"Circle area:\", c.area())\n"
   ]
  },
  {
   "cell_type": "code",
   "execution_count": 4,
   "id": "f3cfa2b8",
   "metadata": {},
   "outputs": [
    {
     "name": "stdout",
     "output_type": "stream",
     "text": [
      "Square area: 100\n"
     ]
    }
   ],
   "source": [
    "class square(shape):\n",
    "    def __init__(self,side):\n",
    "        self.side=side\n",
    "    def area(self):\n",
    "        return self.side*self.side\n",
    "    \n",
    "sq = square(10)\n",
    "print(\"Square area:\", sq.area())"
   ]
  },
  {
   "cell_type": "code",
   "execution_count": null,
   "id": "b47af60b",
   "metadata": {},
   "outputs": [],
   "source": []
  }
 ],
 "metadata": {
  "kernelspec": {
   "display_name": "Python 3",
   "language": "python",
   "name": "python3"
  },
  "language_info": {
   "codemirror_mode": {
    "name": "ipython",
    "version": 3
   },
   "file_extension": ".py",
   "mimetype": "text/x-python",
   "name": "python",
   "nbconvert_exporter": "python",
   "pygments_lexer": "ipython3",
   "version": "3.12.2"
  }
 },
 "nbformat": 4,
 "nbformat_minor": 5
}
