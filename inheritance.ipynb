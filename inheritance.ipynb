{
 "cells": [
  {
   "cell_type": "markdown",
   "id": "0437bec5",
   "metadata": {},
   "source": [
    "# Inheritance in Object-Oriented Programming\n",
    "\n",
    "Inheritance is a fundamental concept in object-oriented programming (OOP) that allows a class (called a child or derived class) to inherit attributes and methods from another class (called a parent or base class). This promotes code reuse and establishes a hierarchical relationship between classes.\n",
    "\n",
    "## Key Concepts of Inheritance\n",
    "\n",
    "1. **Parent Class (Base Class)**: The class whose properties and methods are inherited.\n",
    "2. **Child Class (Derived Class)**: The class that inherits from the parent class.\n",
    "3. **Method Overriding**: The child class can provide a specific implementation of a method already defined in the parent class.\n",
    "4. **Access Modifiers**: Control the visibility of attributes and methods (e.g., public, protected, private)."
   ]
  },
  {
   "cell_type": "code",
   "execution_count": null,
   "id": "d62c57cb",
   "metadata": {},
   "outputs": [
    {
     "name": "stdout",
     "output_type": "stream",
     "text": [
      "Buddy\n",
      "Woof! Woof!\n"
     ]
    }
   ],
   "source": [
    "class Animal:\n",
    "    def __init__(self, name):\n",
    "        self.name = name   \n",
    "\n",
    "    def speak(self):\n",
    "        print(\"Some sound\")\n",
    "\n",
    "class Dog(Animal):\n",
    "    def speak(self):\n",
    "        print(\"Woof! Woof!\")\n",
    "\n",
    "Dog1 = Dog(\"Buddy\")\n",
    "print(Dog1.name)\n",
    "Dog1.speak()"
   ]
  },
  {
   "cell_type": "code",
   "execution_count": null,
   "id": "e144382e",
   "metadata": {},
   "outputs": [],
   "source": []
  }
 ],
 "metadata": {
  "kernelspec": {
   "display_name": "Python 3",
   "language": "python",
   "name": "python3"
  },
  "language_info": {
   "codemirror_mode": {
    "name": "ipython",
    "version": 3
   },
   "file_extension": ".py",
   "mimetype": "text/x-python",
   "name": "python",
   "nbconvert_exporter": "python",
   "pygments_lexer": "ipython3",
   "version": "3.12.2"
  }
 },
 "nbformat": 4,
 "nbformat_minor": 5
}
