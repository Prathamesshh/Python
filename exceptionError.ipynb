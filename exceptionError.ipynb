{
 "cells": [
  {
   "cell_type": "markdown",
   "id": "cac9ea42",
   "metadata": {},
   "source": [
    "Exception Handling"
   ]
  },
  {
   "cell_type": "code",
   "execution_count": 1,
   "id": "d0d19313",
   "metadata": {},
   "outputs": [
    {
     "name": "stdout",
     "output_type": "stream",
     "text": [
      "Variable 'b' is not defined. Please define it before using it.\n"
     ]
    }
   ],
   "source": [
    "# We use try , except to handle the case where the user does not have the required permissions\n",
    "\n",
    "try:\n",
    "    a=b\n",
    "except NameError:\n",
    "    print(\"Variable 'b' is not defined. Please define it before using it.\")\n"
   ]
  },
  {
   "cell_type": "code",
   "execution_count": 2,
   "id": "d8b542dd",
   "metadata": {},
   "outputs": [
    {
     "name": "stdout",
     "output_type": "stream",
     "text": [
      "Error: Division by zero is not allowed. Please check your calculations.\n"
     ]
    }
   ],
   "source": [
    "try:\n",
    "    result = 10 / 0\n",
    "except ZeroDivisionError:\n",
    "    print(\"Error: Division by zero is not allowed. Please check your calculations.\")"
   ]
  },
  {
   "cell_type": "code",
   "execution_count": null,
   "id": "f9a2116b",
   "metadata": {},
   "outputs": [],
   "source": []
  }
 ],
 "metadata": {
  "kernelspec": {
   "display_name": "Python 3",
   "language": "python",
   "name": "python3"
  },
  "language_info": {
   "codemirror_mode": {
    "name": "ipython",
    "version": 3
   },
   "file_extension": ".py",
   "mimetype": "text/x-python",
   "name": "python",
   "nbconvert_exporter": "python",
   "pygments_lexer": "ipython3",
   "version": "3.12.2"
  }
 },
 "nbformat": 4,
 "nbformat_minor": 5
}
