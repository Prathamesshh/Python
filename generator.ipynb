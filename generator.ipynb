{
 "cells": [
  {
   "cell_type": "markdown",
   "id": "c4d59e31",
   "metadata": {},
   "source": [
    "Generator\n",
    "It is used to read large files because they allow you to process one line at a time without loading the entire file into memory."
   ]
  },
  {
   "cell_type": "code",
   "execution_count": 1,
   "id": "11f24dba",
   "metadata": {},
   "outputs": [],
   "source": [
    "#reading large files\n",
    "\n",
    "def read_large_file(file_path):\n",
    "    with open(file_path, 'r') as file:\n",
    "        for line in file:\n",
    "            yield line.strip()\n",
    "\n"
   ]
  },
  {
   "cell_type": "code",
   "execution_count": 3,
   "id": "3381896a",
   "metadata": {},
   "outputs": [
    {
     "name": "stdout",
     "output_type": "stream",
     "text": [
      "In this blog, we'll walk through building a job board web app using React.js (with Vite for setup), Node.js (using Express), SerpApi to fetch job listings from Google Jobs, and Material-UI (MUI) for styling.\n",
      "\n",
      "By the end of this tutorial, you'll have a functional job board where users can search for jobs and view results fetched from Google's job listings.\n",
      "\n",
      "Here is the demo of this project :\n"
     ]
    }
   ],
   "source": [
    "read_large_file('large_file.txt')\n",
    "\n",
    "for line in read_large_file('large_file.txt'):\n",
    "    print(line.strip())"
   ]
  },
  {
   "cell_type": "code",
   "execution_count": null,
   "id": "1b020fc8",
   "metadata": {},
   "outputs": [],
   "source": []
  }
 ],
 "metadata": {
  "kernelspec": {
   "display_name": "Python 3",
   "language": "python",
   "name": "python3"
  },
  "language_info": {
   "codemirror_mode": {
    "name": "ipython",
    "version": 3
   },
   "file_extension": ".py",
   "mimetype": "text/x-python",
   "name": "python",
   "nbconvert_exporter": "python",
   "pygments_lexer": "ipython3",
   "version": "3.12.2"
  }
 },
 "nbformat": 4,
 "nbformat_minor": 5
}
