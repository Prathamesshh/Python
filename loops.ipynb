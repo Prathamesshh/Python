{
 "cells": [
  {
   "cell_type": "markdown",
   "id": "ab23a131",
   "metadata": {},
   "source": [
    "Loops\n"
   ]
  },
  {
   "cell_type": "code",
   "execution_count": 7,
   "id": "a4a1116e",
   "metadata": {},
   "outputs": [
    {
     "name": "stdout",
     "output_type": "stream",
     "text": [
      "Laptop price:  10.0\n",
      "Laptop price:  20.0\n",
      "Laptop price:  30.0\n",
      "Laptop price:  40.0\n",
      "Laptop price:  50.0\n"
     ]
    }
   ],
   "source": [
    "for i in range(5):\n",
    "    laptop_price = float(input(\"\"))\n",
    "    print(\"Laptop price: \", laptop_price)\n"
   ]
  },
  {
   "cell_type": "code",
   "execution_count": 1,
   "id": "0a99e51e",
   "metadata": {},
   "outputs": [
    {
     "name": "stdout",
     "output_type": "stream",
     "text": [
      "5\n",
      "10\n",
      "15\n",
      "20\n",
      "25\n"
     ]
    }
   ],
   "source": [
    "numbers = [1, 2, 3, 4, 5]\n",
    "for i in range(5):\n",
    "    print(numbers[i]*5)\n"
   ]
  },
  {
   "cell_type": "code",
   "execution_count": 8,
   "id": "74bd43e4",
   "metadata": {},
   "outputs": [
    {
     "name": "stdout",
     "output_type": "stream",
     "text": [
      "0\n",
      "1\n",
      "2\n",
      "3\n",
      "4\n"
     ]
    }
   ],
   "source": [
    "i = 0 \n",
    "while(i<5):\n",
    "    print(i)\n",
    "    i += 1"
   ]
  },
  {
   "cell_type": "code",
   "execution_count": null,
   "id": "9ede5384",
   "metadata": {},
   "outputs": [],
   "source": []
  }
 ],
 "metadata": {
  "kernelspec": {
   "display_name": "Python 3",
   "language": "python",
   "name": "python3"
  },
  "language_info": {
   "codemirror_mode": {
    "name": "ipython",
    "version": 3
   },
   "file_extension": ".py",
   "mimetype": "text/x-python",
   "name": "python",
   "nbconvert_exporter": "python",
   "pygments_lexer": "ipython3",
   "version": "3.12.2"
  }
 },
 "nbformat": 4,
 "nbformat_minor": 5
}
