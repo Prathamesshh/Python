{
 "cells": [
  {
   "cell_type": "code",
   "execution_count": 3,
   "id": "6ef1964f",
   "metadata": {},
   "outputs": [
    {
     "data": {
      "text/plain": [
       "[1, 4, 9, 16, 25]"
      ]
     },
     "execution_count": 3,
     "metadata": {},
     "output_type": "execute_result"
    }
   ],
   "source": [
    "# Map Function \n",
    "numbers=[1, 2, 3, 4, 5]\n",
    "list(map(lambda x:x**2, numbers ))\n"
   ]
  },
  {
   "cell_type": "code",
   "execution_count": null,
   "id": "72492cb6",
   "metadata": {},
   "outputs": [],
   "source": [
    "def calculate_lift_rounds(n, capacity):\n",
    "    \"\"\"\n",
    "    Function to calculate the number of rounds the lift needs to cover.\n",
    "    \n",
    "    Parameters:\n",
    "    n (int): Total number of people.\n",
    "    capacity (int): Maximum number of people the lift can carry in one round.\n",
    "    \n",
    "    Returns:\n",
    "    int: The number of rounds required to transport all people to the top floor.\n",
    "    \"\"\"\n",
    "    # Your code here\n",
    "    return (n + capacity - 1) // capacity\n"
   ]
  }
 ],
 "metadata": {
  "kernelspec": {
   "display_name": "Python 3",
   "language": "python",
   "name": "python3"
  },
  "language_info": {
   "codemirror_mode": {
    "name": "ipython",
    "version": 3
   },
   "file_extension": ".py",
   "mimetype": "text/x-python",
   "name": "python",
   "nbconvert_exporter": "python",
   "pygments_lexer": "ipython3",
   "version": "3.12.2"
  }
 },
 "nbformat": 4,
 "nbformat_minor": 5
}
