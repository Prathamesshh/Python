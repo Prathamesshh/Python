{
 "cells": [
  {
   "cell_type": "markdown",
   "id": "bcd3dd86",
   "metadata": {},
   "source": [
    "Classes And Objects\n",
    "In object-oriented programming, a class is a blueprint for creating objects. \n",
    "Classes encapsulate data for the object and methods to manipulate that data. An object is an instance of a class.\n",
    "\n",
    "### Key Concepts:\n",
    "1. Class: Defines the structure and behavior (data and methods) that the objects created from the class will have.\n",
    "2. object: An instance of a class. It is created using the class and can access the class's attributes and methods.\n",
    "3. Attributes: Variables that hold data specific to an object.\n",
    "4. Methods: Functions defined inside a class that describe the behaviors of the objects.\n"
   ]
  },
  {
   "cell_type": "code",
   "execution_count": 1,
   "id": "a38a151c",
   "metadata": {},
   "outputs": [
    {
     "name": "stdout",
     "output_type": "stream",
     "text": [
      "Engine has started\n"
     ]
    }
   ],
   "source": [
    "class Car:\n",
    "    def __init__(self,start_engine):\n",
    "        self.start_engine = start_engine\n",
    "        print(\"Engine has started\")\n",
    "\n",
    "Audi = Car(\"start\")\n",
    " \n"
   ]
  },
  {
   "cell_type": "code",
   "execution_count": 10,
   "id": "6295f986",
   "metadata": {},
   "outputs": [
    {
     "name": "stdout",
     "output_type": "stream",
     "text": [
      "Buddy\n"
     ]
    }
   ],
   "source": [
    "class Dog:\n",
    "    #constructor method\n",
    "    #__init__ is a special method that initializes the object\n",
    "    def __init__(self, name):\n",
    "        self.name = name\n",
    "\n",
    "dog1 = Dog(\"Buddy\")\n",
    "print(dog1.name)  # Output: Buddy"
   ]
  },
  {
   "cell_type": "code",
   "execution_count": 14,
   "id": "ccd7a1b6",
   "metadata": {},
   "outputs": [
    {
     "name": "stdout",
     "output_type": "stream",
     "text": [
      "Car Brand: Toyota, Model: Corolla\n"
     ]
    }
   ],
   "source": [
    "class Car:\n",
    "    def __init__(self, Brand, model):\n",
    "        self.Brand = Brand\n",
    "        self.model = model\n",
    "    def display_info(self):\n",
    "        print(f\"Car Brand: {self.Brand}, Model: {self.model}\")\n",
    "\n",
    "Car1 = Car(\"Toyota\", \"Corolla\")\n",
    "Car1.display_info()  # Output: Car Make: Toyota, Model: Corolla"
   ]
  },
  {
   "cell_type": "code",
   "execution_count": 17,
   "id": "ab0b4eca",
   "metadata": {},
   "outputs": [
    {
     "name": "stdout",
     "output_type": "stream",
     "text": [
      "Deposited 500 to Alice's account. New balance: 1500\n",
      "Withdrew 200 from Alice's account. New balance: 1300\n",
      "Alice's account balance: 1300\n"
     ]
    }
   ],
   "source": [
    "#Modeling a bank account\n",
    "\n",
    "class BankAccount:\n",
    "    def __init__(self,owner,balance=0):\n",
    "        self.owner = owner\n",
    "        self.balance = balance\n",
    "    def deposit(self,amount):\n",
    "        self.balance +=amount\n",
    "        print(f\"Deposited {amount} to {self.owner}'s account. New balance: {self.balance}\")\n",
    "    def withdraw(self,amount):\n",
    "        if amount > self.balance:\n",
    "            print(\"Insufficient funds\")\n",
    "        else:\n",
    "            self.balance -= amount\n",
    "            print(f\"Withdrew {amount} from {self.owner}'s account. New balance: {self.balance}\")\n",
    "    def display_balance(self):\n",
    "        print(f\"{self.owner}'s account balance: {self.balance}\")\n",
    "\n",
    "account1 = BankAccount(\"Alice\", 1000)\n",
    "account1.deposit(500) \n",
    "account1.withdraw(200)\n",
    "account1.display_balance() \n"
   ]
  },
  {
   "cell_type": "code",
   "execution_count": 19,
   "id": "0a38235d",
   "metadata": {},
   "outputs": [
    {
     "name": "stdout",
     "output_type": "stream",
     "text": [
      "Insufficient funds\n",
      "Deposited 1000 to Alice's account. New balance: 2300\n"
     ]
    }
   ],
   "source": [
    "account1.withdraw(2000)  \n",
    "account1.deposit(1000)"
   ]
  },
  {
   "cell_type": "code",
   "execution_count": 2,
   "id": "5d22e149",
   "metadata": {},
   "outputs": [
    {
     "name": "stdout",
     "output_type": "stream",
     "text": [
      "Alice 30 E123\n"
     ]
    }
   ],
   "source": [
    "class Person:\n",
    "    def __init__(self, name, age):\n",
    "        self.name = name\n",
    "        self.age = age\n",
    "\n",
    "class Employee(Person):\n",
    "    def __init__(self, name, age, employee_id):\n",
    "        super().__init__(name, age)\n",
    "        self.employee_id = employee_id\n",
    "\n",
    "employee = Employee('Alice', 30, 'E123')\n",
    "print(employee.name, employee.age, employee.employee_id)"
   ]
  },
  {
   "cell_type": "code",
   "execution_count": 3,
   "id": "c8d2f65d",
   "metadata": {},
   "outputs": [
    {
     "name": "stdout",
     "output_type": "stream",
     "text": [
      "Employee(Name: Alice, Age: 30, Employee ID: E123)\n"
     ]
    }
   ],
   "source": [
    "class Employee(Person):\n",
    "    def __init__(self, name, age, employee_id):\n",
    "        super().__init__(name, age)\n",
    "        self.employee_id = employee_id\n",
    "\n",
    "    def __str__(self):\n",
    "        return f\"Employee(Name: {self.name}, Age: {self.age}, Employee ID: {self.employee_id})\"\n",
    "    \n",
    "employee = Employee('Alice', 30, 'E123')\n",
    "print(employee)  "
   ]
  },
  {
   "cell_type": "code",
   "execution_count": null,
   "id": "0761752f",
   "metadata": {},
   "outputs": [],
   "source": []
  }
 ],
 "metadata": {
  "kernelspec": {
   "display_name": "Python 3",
   "language": "python",
   "name": "python3"
  },
  "language_info": {
   "codemirror_mode": {
    "name": "ipython",
    "version": 3
   },
   "file_extension": ".py",
   "mimetype": "text/x-python",
   "name": "python",
   "nbconvert_exporter": "python",
   "pygments_lexer": "ipython3",
   "version": "3.12.2"
  }
 },
 "nbformat": 4,
 "nbformat_minor": 5
}
