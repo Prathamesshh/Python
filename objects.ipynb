{
 "cells": [
  {
   "cell_type": "markdown",
   "id": "bcd3dd86",
   "metadata": {},
   "source": [
    "Classes And Objects\n",
    "In object-oriented programming, a class is a blueprint for creating objects. \n",
    "Classes encapsulate data for the object and methods to manipulate that data. An object is an instance of a class.\n",
    "\n",
    "### Key Concepts:\n",
    "1. Class: Defines the structure and behavior (data and methods) that the objects created from the class will have.\n",
    "2. object: An instance of a class. It is created using the class and can access the class's attributes and methods.\n",
    "3. Attributes: Variables that hold data specific to an object.\n",
    "4. Methods: Functions defined inside a class that describe the behaviors of the objects.\n"
   ]
  },
  {
   "cell_type": "code",
   "execution_count": 6,
   "id": "a38a151c",
   "metadata": {},
   "outputs": [
    {
     "name": "stdout",
     "output_type": "stream",
     "text": [
      "Car class created\n",
      "Audi class created\n"
     ]
    }
   ],
   "source": [
    "class Car:\n",
    "    print(\"Car class created\")\n",
    "\n",
    "Audi = Car()\n",
    "class Audi:\n",
    "    print(\"Audi class created\")  \n"
   ]
  },
  {
   "cell_type": "code",
   "execution_count": 10,
   "id": "6295f986",
   "metadata": {},
   "outputs": [
    {
     "name": "stdout",
     "output_type": "stream",
     "text": [
      "Buddy\n"
     ]
    }
   ],
   "source": [
    "class Dog:\n",
    "    #constructor method\n",
    "    #__init__ is a special method that initializes the object\n",
    "    def __init__(self, name):\n",
    "        self.name = name\n",
    "\n",
    "dog1 = Dog(\"Buddy\")\n",
    "print(dog1.name)  # Output: Buddy"
   ]
  },
  {
   "cell_type": "code",
   "execution_count": 14,
   "id": "ccd7a1b6",
   "metadata": {},
   "outputs": [
    {
     "name": "stdout",
     "output_type": "stream",
     "text": [
      "Car Brand: Toyota, Model: Corolla\n"
     ]
    }
   ],
   "source": [
    "class Car:\n",
    "    def __init__(self, Brand, model):\n",
    "        self.Brand = Brand\n",
    "        self.model = model\n",
    "    def display_info(self):\n",
    "        print(f\"Car Brand: {self.Brand}, Model: {self.model}\")\n",
    "\n",
    "Car1 = Car(\"Toyota\", \"Corolla\")\n",
    "Car1.display_info()  # Output: Car Make: Toyota, Model: Corolla"
   ]
  },
  {
   "cell_type": "code",
   "execution_count": null,
   "id": "ab0b4eca",
   "metadata": {},
   "outputs": [],
   "source": []
  }
 ],
 "metadata": {
  "kernelspec": {
   "display_name": "Python 3",
   "language": "python",
   "name": "python3"
  },
  "language_info": {
   "codemirror_mode": {
    "name": "ipython",
    "version": 3
   },
   "file_extension": ".py",
   "mimetype": "text/x-python",
   "name": "python",
   "nbconvert_exporter": "python",
   "pygments_lexer": "ipython3",
   "version": "3.12.2"
  }
 },
 "nbformat": 4,
 "nbformat_minor": 5
}
