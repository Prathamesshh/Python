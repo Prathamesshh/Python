{
 "cells": [
  {
   "cell_type": "markdown",
   "id": "3703fca5",
   "metadata": {},
   "source": [
    "Lambda Functions in Python\n",
    "\n",
    "Lambda functions are small anonymous functions defined using lambda keyword.they can have any number of arguments but only one expression."
   ]
  },
  {
   "cell_type": "code",
   "execution_count": 1,
   "id": "fde6bad8",
   "metadata": {},
   "outputs": [
    {
     "name": "stdout",
     "output_type": "stream",
     "text": [
      "3\n"
     ]
    }
   ],
   "source": [
    "addition = lambda a,b:a+b\n",
    "type(addition)\n",
    "print(addition(1,2))"
   ]
  },
  {
   "cell_type": "code",
   "execution_count": 2,
   "id": "f2522059",
   "metadata": {},
   "outputs": [
    {
     "name": "stdout",
     "output_type": "stream",
     "text": [
      "True\n"
     ]
    }
   ],
   "source": [
    "even = lambda x :x%2==0\n",
    "print(even(2))"
   ]
  },
  {
   "cell_type": "code",
   "execution_count": 4,
   "id": "a03219c2",
   "metadata": {},
   "outputs": [
    {
     "name": "stdout",
     "output_type": "stream",
     "text": [
      "16\n"
     ]
    }
   ],
   "source": [
    "add = lambda x,y,z:x+y+z\n",
    "print(add(11,2,3))"
   ]
  },
  {
   "cell_type": "code",
   "execution_count": 1,
   "id": "a27a5e06",
   "metadata": {},
   "outputs": [
    {
     "name": "stdout",
     "output_type": "stream",
     "text": [
      "5\n"
     ]
    }
   ],
   "source": [
    "subtract = lambda x,y:x-y\n",
    "print(subtract(10,5))"
   ]
  },
  {
   "cell_type": "code",
   "execution_count": 1,
   "id": "13b04f7d",
   "metadata": {},
   "outputs": [
    {
     "name": "stdout",
     "output_type": "stream",
     "text": [
      "50\n"
     ]
    },
    {
     "ename": "TypeError",
     "evalue": "<lambda>() takes 2 positional arguments but 3 were given",
     "output_type": "error",
     "traceback": [
      "\u001b[31m---------------------------------------------------------------------------\u001b[39m",
      "\u001b[31mTypeError\u001b[39m                                 Traceback (most recent call last)",
      "\u001b[36mCell\u001b[39m\u001b[36m \u001b[39m\u001b[32mIn[1]\u001b[39m\u001b[32m, line 3\u001b[39m\n\u001b[32m      1\u001b[39m multiply = \u001b[38;5;28;01mlambda\u001b[39;00m x,y:x*y\n\u001b[32m      2\u001b[39m \u001b[38;5;28mprint\u001b[39m(multiply(\u001b[32m10\u001b[39m,\u001b[32m5\u001b[39m))\n\u001b[32m----> \u001b[39m\u001b[32m3\u001b[39m \u001b[38;5;28mprint\u001b[39m(\u001b[43mmultiply\u001b[49m\u001b[43m(\u001b[49m\u001b[32;43m10\u001b[39;49m\u001b[43m,\u001b[49m\u001b[32;43m5\u001b[39;49m\u001b[43m,\u001b[49m\u001b[32;43m2\u001b[39;49m\u001b[43m)\u001b[49m) \u001b[38;5;66;03m# Error: multiply() takes 2 positional arguments but 3 were given\u001b[39;00m\n",
      "\u001b[31mTypeError\u001b[39m: <lambda>() takes 2 positional arguments but 3 were given"
     ]
    }
   ],
   "source": [
    "multiply = lambda x,y:x*y\n",
    "print(multiply(10,5))\n",
    "print(multiply(10,5,2)) # Error: multiply() takes 2 positional arguments but 3 were given"
   ]
  },
  {
   "cell_type": "code",
   "execution_count": null,
   "id": "534e63ae",
   "metadata": {},
   "outputs": [],
   "source": []
  }
 ],
 "metadata": {
  "kernelspec": {
   "display_name": "Python 3",
   "language": "python",
   "name": "python3"
  },
  "language_info": {
   "codemirror_mode": {
    "name": "ipython",
    "version": 3
   },
   "file_extension": ".py",
   "mimetype": "text/x-python",
   "name": "python",
   "nbconvert_exporter": "python",
   "pygments_lexer": "ipython3",
   "version": "3.12.2"
  }
 },
 "nbformat": 4,
 "nbformat_minor": 5
}
