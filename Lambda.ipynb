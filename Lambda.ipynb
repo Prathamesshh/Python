{
 "cells": [
  {
   "cell_type": "markdown",
   "id": "3703fca5",
   "metadata": {},
   "source": [
    "Lambda Functions in Python\n",
    "\n",
    "Lambda functions are small anonymous functions defined using lambda keyword.they can have any number of arguments but only one expression."
   ]
  },
  {
   "cell_type": "code",
   "execution_count": 1,
   "id": "fde6bad8",
   "metadata": {},
   "outputs": [
    {
     "name": "stdout",
     "output_type": "stream",
     "text": [
      "3\n"
     ]
    }
   ],
   "source": [
    "addition = lambda a,b:a+b\n",
    "type(addition)\n",
    "print(addition(1,2))"
   ]
  },
  {
   "cell_type": "code",
   "execution_count": 2,
   "id": "f2522059",
   "metadata": {},
   "outputs": [
    {
     "name": "stdout",
     "output_type": "stream",
     "text": [
      "True\n"
     ]
    }
   ],
   "source": [
    "even = lambda x :x%2==0\n",
    "print(even(2))"
   ]
  },
  {
   "cell_type": "code",
   "execution_count": 4,
   "id": "a03219c2",
   "metadata": {},
   "outputs": [
    {
     "name": "stdout",
     "output_type": "stream",
     "text": [
      "16\n"
     ]
    }
   ],
   "source": [
    "add = lambda x,y,z:x+y+z\n",
    "print(add(11,2,3))"
   ]
  },
  {
   "cell_type": "code",
   "execution_count": 1,
   "id": "a27a5e06",
   "metadata": {},
   "outputs": [
    {
     "name": "stdout",
     "output_type": "stream",
     "text": [
      "5\n"
     ]
    }
   ],
   "source": [
    "subtract = lambda x,y:x-y\n",
    "print(subtract(10,5))"
   ]
  },
  {
   "cell_type": "code",
   "execution_count": 2,
   "id": "13b04f7d",
   "metadata": {},
   "outputs": [
    {
     "name": "stdout",
     "output_type": "stream",
     "text": [
      "50\n"
     ]
    }
   ],
   "source": [
    "multiply = lambda x,y:x*y\n",
    "print(multiply(10,5))"
   ]
  },
  {
   "cell_type": "code",
   "execution_count": null,
   "id": "534e63ae",
   "metadata": {},
   "outputs": [],
   "source": []
  }
 ],
 "metadata": {
  "kernelspec": {
   "display_name": "Python 3",
   "language": "python",
   "name": "python3"
  },
  "language_info": {
   "codemirror_mode": {
    "name": "ipython",
    "version": 3
   },
   "file_extension": ".py",
   "mimetype": "text/x-python",
   "name": "python",
   "nbconvert_exporter": "python",
   "pygments_lexer": "ipython3",
   "version": "3.12.2"
  }
 },
 "nbformat": 4,
 "nbformat_minor": 5
}
